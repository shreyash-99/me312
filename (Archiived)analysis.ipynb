{
 "cells": [
  {
   "cell_type": "code",
   "execution_count": 8,
   "metadata": {},
   "outputs": [],
   "source": [
    "import pandas as pd\n",
    "\n",
    "# Replace 'your_file.xlsx' with the path to your Excel file\n",
    "df = pd.read_excel('Schedules_Domestic.xlsx')"
   ]
  },
  {
   "cell_type": "code",
   "execution_count": 9,
   "metadata": {},
   "outputs": [
    {
     "data": {
      "text/plain": [
       "<bound method NDFrame.head of         ORIGIN DESTINATION                                          FREQUENCY  \\\n",
       "0    AHMEDABAD     AYODHYA  MONDAY, TUESDAY, THURSDAY, FRIDAY, SATURDAY, S...   \n",
       "1    AHMEDABAD     AYODHYA  MONDAY, TUESDAY, THURSDAY, FRIDAY, SATURDAY, S...   \n",
       "2    AHMEDABAD     AYODHYA                        TUESDAY, THURSDAY, SATURDAY   \n",
       "3    AHMEDABAD     AYODHYA  MONDAY, TUESDAY, THURSDAY, FRIDAY, SATURDAY, S...   \n",
       "4    AHMEDABAD    BAGDOGRA  MONDAY, TUESDAY, THURSDAY, FRIDAY, SATURDAY, S...   \n",
       "..         ...         ...                                                ...   \n",
       "912   VARANASI   HYDERABAD                  MONDAY, WEDNESDAY, FRIDAY, SUNDAY   \n",
       "913   VARANASI   HYDERABAD                        TUESDAY, THURSDAY, SATURDAY   \n",
       "914   VARANASI      JAIPUR                                              DAILY   \n",
       "915   VARANASI   KHAJURAHO                                 TUESDAY, WEDNESDAY   \n",
       "916        NaN         NaN                                                NaN   \n",
       "\n",
       "    FLIGHT NO DEPARTURE   ARRIVAL                 VIA EFFECTIVE FROM  \\\n",
       "0     SG  511  05:55 AM  08:00 AM                   -      17 MAR 24   \n",
       "1     SG  511  05:55 AM  08:00 AM                   -      18 MAR 24   \n",
       "2     SG  611  05:45 AM  12:45 PM  CHENNAI, HYDERABAD      31 MAR 24   \n",
       "3     SG  511  11:10 AM  01:05 PM                   -      31 MAR 24   \n",
       "4     SG 8187  03:30 PM  06:10 PM                   -      31 MAR 24   \n",
       "..        ...       ...       ...                 ...            ...   \n",
       "912   SG  616  01:45 PM  03:45 PM                   -      31 MAR 24   \n",
       "913   SG  323  02:00 PM  03:55 PM                   -      27 OCT 24   \n",
       "914   SG 2974  09:30 AM  11:10 AM                   -      27 OCT 24   \n",
       "915   SG 2932  06:50 PM  07:50 PM                   -      27 OCT 24   \n",
       "916       NaN       NaN       NaN                 NaN            NaN   \n",
       "\n",
       "    EFFECTIVE TILL  REMARKS  \n",
       "0        17 MAR 24      NaN  \n",
       "1        30 MAR 24      NaN  \n",
       "2        26 OCT 24      NaN  \n",
       "3        26 OCT 24      NaN  \n",
       "4        26 OCT 24      NaN  \n",
       "..             ...      ...  \n",
       "912      26 OCT 24      NaN  \n",
       "913      28 FEB 25      NaN  \n",
       "914      28 FEB 25      NaN  \n",
       "915      28 FEB 25      NaN  \n",
       "916            NaN      NaN  \n",
       "\n",
       "[917 rows x 10 columns]>"
      ]
     },
     "execution_count": 9,
     "metadata": {},
     "output_type": "execute_result"
    }
   ],
   "source": [
    "df.head"
   ]
  },
  {
   "cell_type": "code",
   "execution_count": 14,
   "metadata": {},
   "outputs": [
    {
     "name": "stdout",
     "output_type": "stream",
     "text": [
      "Number of unique values in the column: 35\n",
      "['AYODHYA' 'BAGDOGRA' 'CHENNAI' 'DELHI' 'GOA' 'HYDERABAD' 'JABALPUR'\n",
      " 'JAIPUR' 'MUMBAI' 'PORT BLAIR' 'PUNE' 'VARANASI' 'AHMEDABAD' 'BENGALURU'\n",
      " 'DARBHANGA' 'KOLKATA' 'PATNA' 'GUWAHATI' 'PONDICHERRY' 'SHIRDI'\n",
      " 'AMRITSAR' 'DHARAMSHALA' 'JAMMU' 'JHARSUGUDA' 'KANDLA' 'KHAJURAHO'\n",
      " 'KOCHI' 'LEH' 'PAKYONG' 'SHILLONG' 'SRINAGAR' 'MADURAI' 'TIRUPATI'\n",
      " 'TEZPUR' 'BHAVNAGAR' nan]\n"
     ]
    }
   ],
   "source": [
    "unique_values_count = df['DESTINATION'].nunique()\n",
    "unique_values = df['DESTINATION'].unique()\n",
    "\n",
    "print(\"Number of unique values in the column:\", unique_values_count)\n",
    "print(unique_values)"
   ]
  },
  {
   "cell_type": "code",
   "execution_count": 15,
   "metadata": {},
   "outputs": [
    {
     "ename": "TypeError",
     "evalue": "bad operand type for unary ~: 'float'",
     "output_type": "error",
     "traceback": [
      "\u001b[0;31m---------------------------------------------------------------------------\u001b[0m",
      "\u001b[0;31mTypeError\u001b[0m                                 Traceback (most recent call last)",
      "Cell \u001b[0;32mIn[15], line 2\u001b[0m\n\u001b[1;32m      1\u001b[0m substring_to_check \u001b[38;5;241m=\u001b[39m \u001b[38;5;124m'\u001b[39m\u001b[38;5;124mOCT\u001b[39m\u001b[38;5;124m'\u001b[39m\n\u001b[0;32m----> 2\u001b[0m df \u001b[38;5;241m=\u001b[39m df[\u001b[38;5;241;43m~\u001b[39;49m\u001b[43mdf\u001b[49m\u001b[43m[\u001b[49m\u001b[38;5;124;43m'\u001b[39;49m\u001b[38;5;124;43mEFFECTIVE FROM\u001b[39;49m\u001b[38;5;124;43m'\u001b[39;49m\u001b[43m]\u001b[49m\u001b[38;5;241;43m.\u001b[39;49m\u001b[43mstr\u001b[49m\u001b[38;5;241;43m.\u001b[39;49m\u001b[43mcontains\u001b[49m\u001b[43m(\u001b[49m\u001b[43msubstring_to_check\u001b[49m\u001b[43m)\u001b[49m]\n",
      "File \u001b[0;32m~/Developer/me312/project/lib/python3.9/site-packages/pandas/core/generic.py:1570\u001b[0m, in \u001b[0;36mNDFrame.__invert__\u001b[0;34m(self)\u001b[0m\n\u001b[1;32m   1566\u001b[0m \u001b[38;5;28;01mif\u001b[39;00m \u001b[38;5;129;01mnot\u001b[39;00m \u001b[38;5;28mself\u001b[39m\u001b[38;5;241m.\u001b[39msize:\n\u001b[1;32m   1567\u001b[0m     \u001b[38;5;66;03m# inv fails with 0 len\u001b[39;00m\n\u001b[1;32m   1568\u001b[0m     \u001b[38;5;28;01mreturn\u001b[39;00m \u001b[38;5;28mself\u001b[39m\u001b[38;5;241m.\u001b[39mcopy(deep\u001b[38;5;241m=\u001b[39m\u001b[38;5;28;01mFalse\u001b[39;00m)\n\u001b[0;32m-> 1570\u001b[0m new_data \u001b[38;5;241m=\u001b[39m \u001b[38;5;28;43mself\u001b[39;49m\u001b[38;5;241;43m.\u001b[39;49m\u001b[43m_mgr\u001b[49m\u001b[38;5;241;43m.\u001b[39;49m\u001b[43mapply\u001b[49m\u001b[43m(\u001b[49m\u001b[43moperator\u001b[49m\u001b[38;5;241;43m.\u001b[39;49m\u001b[43minvert\u001b[49m\u001b[43m)\u001b[49m\n\u001b[1;32m   1571\u001b[0m res \u001b[38;5;241m=\u001b[39m \u001b[38;5;28mself\u001b[39m\u001b[38;5;241m.\u001b[39m_constructor_from_mgr(new_data, axes\u001b[38;5;241m=\u001b[39mnew_data\u001b[38;5;241m.\u001b[39maxes)\n\u001b[1;32m   1572\u001b[0m \u001b[38;5;28;01mreturn\u001b[39;00m res\u001b[38;5;241m.\u001b[39m__finalize__(\u001b[38;5;28mself\u001b[39m, method\u001b[38;5;241m=\u001b[39m\u001b[38;5;124m\"\u001b[39m\u001b[38;5;124m__invert__\u001b[39m\u001b[38;5;124m\"\u001b[39m)\n",
      "File \u001b[0;32m~/Developer/me312/project/lib/python3.9/site-packages/pandas/core/internals/managers.py:361\u001b[0m, in \u001b[0;36mBaseBlockManager.apply\u001b[0;34m(self, f, align_keys, **kwargs)\u001b[0m\n\u001b[1;32m    358\u001b[0m             kwargs[k] \u001b[38;5;241m=\u001b[39m obj[b\u001b[38;5;241m.\u001b[39mmgr_locs\u001b[38;5;241m.\u001b[39mindexer]\n\u001b[1;32m    360\u001b[0m \u001b[38;5;28;01mif\u001b[39;00m \u001b[38;5;28mcallable\u001b[39m(f):\n\u001b[0;32m--> 361\u001b[0m     applied \u001b[38;5;241m=\u001b[39m \u001b[43mb\u001b[49m\u001b[38;5;241;43m.\u001b[39;49m\u001b[43mapply\u001b[49m\u001b[43m(\u001b[49m\u001b[43mf\u001b[49m\u001b[43m,\u001b[49m\u001b[43m \u001b[49m\u001b[38;5;241;43m*\u001b[39;49m\u001b[38;5;241;43m*\u001b[39;49m\u001b[43mkwargs\u001b[49m\u001b[43m)\u001b[49m\n\u001b[1;32m    362\u001b[0m \u001b[38;5;28;01melse\u001b[39;00m:\n\u001b[1;32m    363\u001b[0m     applied \u001b[38;5;241m=\u001b[39m \u001b[38;5;28mgetattr\u001b[39m(b, f)(\u001b[38;5;241m*\u001b[39m\u001b[38;5;241m*\u001b[39mkwargs)\n",
      "File \u001b[0;32m~/Developer/me312/project/lib/python3.9/site-packages/pandas/core/internals/blocks.py:393\u001b[0m, in \u001b[0;36mBlock.apply\u001b[0;34m(self, func, **kwargs)\u001b[0m\n\u001b[1;32m    387\u001b[0m \u001b[38;5;129m@final\u001b[39m\n\u001b[1;32m    388\u001b[0m \u001b[38;5;28;01mdef\u001b[39;00m \u001b[38;5;21mapply\u001b[39m(\u001b[38;5;28mself\u001b[39m, func, \u001b[38;5;241m*\u001b[39m\u001b[38;5;241m*\u001b[39mkwargs) \u001b[38;5;241m-\u001b[39m\u001b[38;5;241m>\u001b[39m \u001b[38;5;28mlist\u001b[39m[Block]:\n\u001b[1;32m    389\u001b[0m \u001b[38;5;250m    \u001b[39m\u001b[38;5;124;03m\"\"\"\u001b[39;00m\n\u001b[1;32m    390\u001b[0m \u001b[38;5;124;03m    apply the function to my values; return a block if we are not\u001b[39;00m\n\u001b[1;32m    391\u001b[0m \u001b[38;5;124;03m    one\u001b[39;00m\n\u001b[1;32m    392\u001b[0m \u001b[38;5;124;03m    \"\"\"\u001b[39;00m\n\u001b[0;32m--> 393\u001b[0m     result \u001b[38;5;241m=\u001b[39m \u001b[43mfunc\u001b[49m\u001b[43m(\u001b[49m\u001b[38;5;28;43mself\u001b[39;49m\u001b[38;5;241;43m.\u001b[39;49m\u001b[43mvalues\u001b[49m\u001b[43m,\u001b[49m\u001b[43m \u001b[49m\u001b[38;5;241;43m*\u001b[39;49m\u001b[38;5;241;43m*\u001b[39;49m\u001b[43mkwargs\u001b[49m\u001b[43m)\u001b[49m\n\u001b[1;32m    395\u001b[0m     result \u001b[38;5;241m=\u001b[39m maybe_coerce_values(result)\n\u001b[1;32m    396\u001b[0m     \u001b[38;5;28;01mreturn\u001b[39;00m \u001b[38;5;28mself\u001b[39m\u001b[38;5;241m.\u001b[39m_split_op_result(result)\n",
      "\u001b[0;31mTypeError\u001b[0m: bad operand type for unary ~: 'float'"
     ]
    }
   ],
   "source": [
    "substring_to_check = 'OCT'\n",
    "df = df[~df['EFFECTIVE FROM'].str.contains(substring_to_check)]"
   ]
  },
  {
   "cell_type": "code",
   "execution_count": null,
   "metadata": {},
   "outputs": [],
   "source": []
  }
 ],
 "metadata": {
  "kernelspec": {
   "display_name": "project",
   "language": "python",
   "name": "python3"
  },
  "language_info": {
   "codemirror_mode": {
    "name": "ipython",
    "version": 3
   },
   "file_extension": ".py",
   "mimetype": "text/x-python",
   "name": "python",
   "nbconvert_exporter": "python",
   "pygments_lexer": "ipython3",
   "version": "3.9.6"
  }
 },
 "nbformat": 4,
 "nbformat_minor": 2
}
