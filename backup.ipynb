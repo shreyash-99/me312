{
 "cells": [
  {
   "cell_type": "code",
   "execution_count": null,
   "metadata": {},
   "outputs": [],
   "source": [
    "\n"
   ]
  },
  {
   "cell_type": "markdown",
   "metadata": {},
   "source": [
    "## old code"
   ]
  },
  {
   "cell_type": "markdown",
   "metadata": {},
   "source": [
    "import numpy as np\n",
    "\n",
    "flightLocations = iniitial_flights_positions \n",
    "flights_status = [{'currently': city,\n",
    "                   'take_off_time': 0,\n",
    "                   'landing_time': 0,\n",
    "                   'from_city': None,\n",
    "                   'to_city': None,\n",
    "                   'seats_full': None,\n",
    "                   'avg_wait_time': None,\n",
    "                   'profit': None}\n",
    "                  for city in iniitial_flights_positions]\n",
    "\n",
    "schedule_array = [[] for _ in range(totalFlights)]\n",
    "everyPossibleSchedule = []\n",
    "\n",
    "def getSeatsLeft(airport_traffic, current_airport, dest_airport, time_instant): \n",
    "    seats_left = numberOfSeatsPerFlight\n",
    "    for time_instant in range(0, time_instant + 1):\n",
    "        if airport_traffic[current_airport][dest_airport][time_instant] > 0:\n",
    "            demand = airport_traffic[current_airport][dest_airport][time_instant]\n",
    "            if seats_left > demand: \n",
    "                airport_traffic[current_airport][dest_airport][time_instant] = 0\n",
    "                seats_left -= demand\n",
    "            else:\n",
    "                airport_traffic[current_airport][dest_airport][time_instant] = demand - seats_left\n",
    "                seats_left = 0\n",
    "    return seats_left\n",
    "\n",
    "\n",
    "def schedule_flights(time_instant, flights_status, schedule_array):\n",
    "    if time_instant == totalTimeIntervals:\n",
    "        everyPossibleSchedule.append([flight_schedule[:] for flight_schedule in schedule_array])  # Append a copy\n",
    "        return\n",
    "    \n",
    "    for flight_idx in range(len(flights_status)):\n",
    "        if flights_status[flight_idx]['currently'] == -1:\n",
    "            if flights_status[flight_idx]['landing_time'] == time_instant:\n",
    "                flights_status[flight_idx]['currently'] = flights_status[flight_idx]['to_city']\n",
    "        if flights_status[flight_idx]['currently'] == -1:\n",
    "            continue\n",
    "        \n",
    "        flight_old = flights_status[flight_idx].copy()\n",
    "            \n",
    "        current_airport = flights_status[flight_idx]['currently']\n",
    "        for dest_airport in range(numberOfAirports):\n",
    "            if dest_airport == current_airport:\n",
    "                continue\n",
    "            \n",
    "            seats_left = getSeatsLeft(airport_traffic, current_airport, dest_airport, time_instant)\n",
    "            if seats_left > minimumFractionAirplaneFillesd * numberOfSeatsPerFlight:\n",
    "                continue\n",
    "            \n",
    "            flights_status[flight_idx]['currently'] = -1\n",
    "            flights_status[flight_idx]['take_off_time'] = time_instant\n",
    "            flights_status[flight_idx]['landing_time'] = time_instant + timeFromOneAirportToAnother\n",
    "            flights_status[flight_idx]['from_city'] = current_airport\n",
    "            flights_status[flight_idx]['to_city'] = dest_airport\n",
    "            flights_status[flight_idx]['seats_full'] = numberOfSeatsPerFlight - seats_left\n",
    "            flights_status[flight_idx]['profit'] =   costPerSeatPerHourOfFlight * (numberOfSeatsPerFlight - seats_left) - fixedCostPerHourOfFlight\n",
    "            \n",
    "            schedule_array[flight_idx].append(flights_status[flight_idx].copy())\n",
    "            \n",
    "            schedule_flights(time_instant + 1, flights_status, schedule_array)\n",
    "            \n",
    "            flights_status[flight_idx] = flight_old\n",
    "            schedule_array[flight_idx].pop()\n",
    "            \n",
    "            schedule_flights(time_instant + 1, flights_status, schedule_array)\n",
    "\n",
    "schedule_flights(0, flights_status, schedule_array)\n",
    "\n",
    "# Print everyPossibleSchedule to check the output\n",
    "print(everyPossibleSchedule)\n"
   ]
  }
 ],
 "metadata": {
  "language_info": {
   "name": "python"
  }
 },
 "nbformat": 4,
 "nbformat_minor": 2
}
