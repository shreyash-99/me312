{
 "cells": [
  {
   "cell_type": "code",
   "execution_count": null,
   "metadata": {},
   "outputs": [],
   "source": [
    "# class Passenger:\n",
    "#     def __init__(self):\n",
    "#         self.personID = None\n",
    "#         self.fromAirport = None\n",
    "#         self.toAirport = None\n",
    "#         self.preferredDepartureTime = None\n",
    "#         self.preferredDay = None\n",
    "#         self.preferredDepartureTimeRange = None  # Converted time to the range of 0 to 1008\n",
    "#         self.maxWaitTime = None  # Maximum time the passenger can wait\n",
    "\n",
    "\n",
    "# class Flight:\n",
    "#     def __init__(self):\n",
    "#         self.departureTime = None\n",
    "#         self.arrivalTime = None\n",
    "#         self.originCity = None\n",
    "#         self.destinationCity = None\n",
    "#         self.filledSeats = None\n",
    "#         self.avgWaitingTime = None\n",
    "#         self.profit = None\n",
    "\n",
    "\n",
    "# class Airport:\n",
    "#     def __init__(self):\n",
    "#         self.flights = []\n",
    "#         self.maxFlightsPerHour = None\n",
    "#         self.flightThresholds = []"
   ]
  },
  {
   "cell_type": "code",
   "execution_count": 56,
   "metadata": {},
   "outputs": [],
   "source": [
    "# variables\n",
    "totalFlights = 5\n",
    "numberOfAirports = 3\n",
    "totalTimeIntervals = 10\n",
    "\n",
    "\n",
    "fixedCostPerHourOfFlight = 100\n",
    "costPerSeatPerHourOfFlight = 50\n",
    "numberOfSeatsPerFlight = 5\n",
    "\n",
    "minimumFractionAirplaneFillesd = 0.8\n",
    "\n",
    "timeFromOneAirportToAnother = 3 # 3 intervals\n",
    "\"\"\n",
    "\n",
    "## while alltoing random values to number of people travelling per timeintervale, what is the max valu;e\n",
    "maxPeoplePerTimeIntervale = 4"
   ]
  },
  {
   "cell_type": "code",
   "execution_count": 57,
   "metadata": {},
   "outputs": [
    {
     "name": "stdout",
     "output_type": "stream",
     "text": [
      "Airport Traffic Dataset:\n",
      "[[[0 0 0 0 0 0 0 0 0 0]\n",
      "  [0 1 1 2 2 2 2 1 2 1]\n",
      "  [0 1 0 1 2 2 1 1 1 2]]\n",
      "\n",
      " [[2 3 1 2 1 1 2 3 3 0]\n",
      "  [0 0 0 0 0 0 0 0 0 0]\n",
      "  [1 0 1 1 1 1 1 2 3 3]]\n",
      "\n",
      " [[1 1 2 0 2 1 1 1 3 3]\n",
      "  [1 2 2 2 0 0 2 0 1 2]\n",
      "  [0 0 0 0 0 0 0 0 0 0]]]\n"
     ]
    }
   ],
   "source": [
    "import numpy as np\n",
    "\n",
    "# Create a synthetic dataset\n",
    "airport_traffic = np.random.randint(0, high=maxPeoplePerTimeIntervale, size=(numberOfAirports, numberOfAirports, totalTimeIntervals))\n",
    "\n",
    "# Set the diagonal values to 0 since flights from an airport to itself are not considered\n",
    "# np.fill_diagonal(airport_traffic, 0)\n",
    "\n",
    "print(\"Airport Traffic Dataset:\")\n",
    "\n",
    "for i in range(0, len(airport_traffic)):\n",
    "    for j in range(0, len(airport_traffic)):\n",
    "        for k in range (0 ,totalTimeIntervals):\n",
    "            if (i==j):\n",
    "                airport_traffic[i][j][k] = 0\n",
    "print(airport_traffic)\n"
   ]
  },
  {
   "cell_type": "code",
   "execution_count": 58,
   "metadata": {},
   "outputs": [
    {
     "name": "stdout",
     "output_type": "stream",
     "text": [
      "Initial flights positions: [2 1 0 1 0]\n"
     ]
    }
   ],
   "source": [
    "# ensuring for every airport there is atleast one flight in the stating\n",
    "while True:\n",
    "    iniitial_flights_positions = np.random.randint(0, numberOfAirports, size=totalFlights)\n",
    "    \n",
    "    # Check if all numbers between 0 and numberOfAirports - 1 are present\n",
    "    if set(range(numberOfAirports)) <= set(iniitial_flights_positions):\n",
    "        break\n",
    "\n",
    "print(\"Initial flights positions:\", iniitial_flights_positions)\n"
   ]
  },
  {
   "cell_type": "code",
   "execution_count": 59,
   "metadata": {},
   "outputs": [
    {
     "data": {
      "text/plain": [
       "array([[[0, 0, 0, 0, 0, 0, 0, 0, 0, 0],\n",
       "        [0, 1, 1, 2, 2, 2, 2, 1, 2, 1],\n",
       "        [0, 1, 0, 1, 2, 2, 1, 1, 1, 2]],\n",
       "\n",
       "       [[2, 3, 1, 2, 1, 1, 2, 3, 3, 0],\n",
       "        [0, 0, 0, 0, 0, 0, 0, 0, 0, 0],\n",
       "        [1, 0, 1, 1, 1, 1, 1, 2, 3, 3]],\n",
       "\n",
       "       [[1, 1, 2, 0, 2, 1, 1, 1, 3, 3],\n",
       "        [1, 2, 2, 2, 0, 0, 2, 0, 1, 2],\n",
       "        [0, 0, 0, 0, 0, 0, 0, 0, 0, 0]]])"
      ]
     },
     "execution_count": 59,
     "metadata": {},
     "output_type": "execute_result"
    }
   ],
   "source": [
    "airport_traffic_notChanged = airport_traffic.copy()\n",
    "airport_traffic_notChanged"
   ]
  },
  {
   "cell_type": "code",
   "execution_count": 60,
   "metadata": {},
   "outputs": [],
   "source": [
    "import numpy as np\n",
    "\n",
    "airport_traffic = airport_traffic_notChanged.copy()\n",
    "# print(airport_traffic)\n",
    "\n",
    "flightLocations = iniitial_flights_positions \n",
    "flights_status = [{'currently': city,\n",
    "                   'take_off_time': 0,\n",
    "                   'landing_time': 0,\n",
    "                   'from_city': None,\n",
    "                   'to_city': None,\n",
    "                   'seats_full': None,\n",
    "                   'avg_wait_time': None,\n",
    "                   'profit': None}\n",
    "                  for city in iniitial_flights_positions]\n",
    "\n",
    "schedule_array = [[] for _ in range(totalFlights)]\n",
    "everyPossibleSchedule = []"
   ]
  },
  {
   "cell_type": "code",
   "execution_count": 55,
   "metadata": {},
   "outputs": [],
   "source": [
    "\n",
    "\n",
    "def getSeatsLeft(airport_traffic, current_airport, dest_airport, time_instant): \n",
    "    seats_left = numberOfSeatsPerFlight\n",
    "    for time_instant in range(0, time_instant + 1):\n",
    "        if airport_traffic[current_airport][dest_airport][time_instant] > 0:\n",
    "            demand = airport_traffic[current_airport][dest_airport][time_instant]\n",
    "            if seats_left > demand: \n",
    "                airport_traffic[current_airport][dest_airport][time_instant] = 0\n",
    "                seats_left -= demand\n",
    "            else:\n",
    "                airport_traffic[current_airport][dest_airport][time_instant] = demand - seats_left\n",
    "                seats_left = 0\n",
    "    return seats_left\n",
    "\n",
    "def schedule_flights(time_instant, flights_status, schedule_array, airport_traffic):\n",
    "    if time_instant == totalTimeIntervals:\n",
    "        everyPossibleSchedule.append([flight_schedule[:] for flight_schedule in schedule_array])  # Append a copy\n",
    "        return\n",
    "    \n",
    "    flghts_that_can_takeoff = 0\n",
    "    \n",
    "    for flight_idx in range(len(flights_status)):\n",
    "        if flights_status[flight_idx]['currently'] == -1:\n",
    "            if flights_status[flight_idx]['landing_time'] == time_instant:\n",
    "                flights_status[flight_idx]['currently'] = flights_status[flight_idx]['to_city']\n",
    "        if flights_status[flight_idx]['currently'] == -1:\n",
    "            continue\n",
    "        \n",
    "        flight_old = flights_status[flight_idx].copy()\n",
    "            \n",
    "        current_airport = flights_status[flight_idx]['currently']\n",
    "        for dest_airport in range(numberOfAirports):\n",
    "            if dest_airport == current_airport:\n",
    "                continue\n",
    "            \n",
    "            seatsLeft = getSeatsLeft(airport_traffic, current_airport, dest_airport, time_instant)\n",
    "            # print(airport_traffic)\n",
    "            # print(\"Seats filled:\", seatsLeft)\n",
    "            if seatsLeft > minimumFractionAirplaneFillesd * numberOfSeatsPerFlight:\n",
    "                continue\n",
    "            \n",
    "            flights_status[flight_idx]['currently'] = -1\n",
    "            flights_status[flight_idx]['take_off_time'] = time_instant\n",
    "            flights_status[flight_idx]['landing_time'] = time_instant + timeFromOneAirportToAnother\n",
    "            flights_status[flight_idx]['from_city'] = current_airport\n",
    "            flights_status[flight_idx]['to_city'] = dest_airport\n",
    "            flights_status[flight_idx]['seats_full'] = numberOfSeatsPerFlight - seatsLeft\n",
    "            flights_status[flight_idx]['profit'] =   costPerSeatPerHourOfFlight * (numberOfSeatsPerFlight - seatsLeft) - fixedCostPerHourOfFlight\n",
    "            \n",
    "            schedule_array[flight_idx].append(flights_status[flight_idx].copy())\n",
    "            \n",
    "            schedule_flights(time_instant + 1, flights_status, schedule_array, airport_traffic)\n",
    "            \n",
    "            flights_status[flight_idx] = flight_old\n",
    "            schedule_array[flight_idx].pop()\n",
    "            \n",
    "            schedule_flights(time_instant + 1, flights_status, schedule_array, airport_traffic)\n",
    "\n",
    "schedule_flights(0, flights_status, schedule_array, airport_traffic)\n",
    "\n",
    "# Print everyPossibleSchedule to check the output\n",
    "# print(everyPossibleSchedule)\n"
   ]
  },
  {
   "cell_type": "code",
   "execution_count": null,
   "metadata": {},
   "outputs": [],
   "source": [
    "airport_traffic"
   ]
  },
  {
   "cell_type": "code",
   "execution_count": null,
   "metadata": {},
   "outputs": [],
   "source": [
    "iniitial_flights_positions"
   ]
  },
  {
   "cell_type": "code",
   "execution_count": null,
   "metadata": {},
   "outputs": [],
   "source": [
    "# schedule_flights(0,flights_status, schedule_array, airport_traffic)    "
   ]
  },
  {
   "cell_type": "code",
   "execution_count": null,
   "metadata": {},
   "outputs": [],
   "source": [
    "everyPossibleSchedule[0]"
   ]
  },
  {
   "cell_type": "code",
   "execution_count": null,
   "metadata": {},
   "outputs": [],
   "source": [
    "len(everyPossibleSchedule)"
   ]
  },
  {
   "cell_type": "code",
   "execution_count": null,
   "metadata": {},
   "outputs": [],
   "source": [
    "everyPossibleSchedule[0]"
   ]
  },
  {
   "cell_type": "code",
   "execution_count": null,
   "metadata": {},
   "outputs": [],
   "source": [
    "profits = []\n",
    "for schedule in everyPossibleSchedule:\n",
    "    profit = 0\n",
    "    for flight_0 in schedule[0]:\n",
    "        profit = profit + flight_0['profit']\n",
    "    for flight_1 in schedule[1]:\n",
    "        profit = profit + flight_1['profit']\n",
    "    for flight_2 in schedule[2]:\n",
    "        profit = profit + flight_2['profit']\n",
    "    for flight_3 in schedule[3]:\n",
    "        profit = profit + flight_3['profit']\n",
    "    for flight_4 in schedule[4]:\n",
    "        profit = profit + flight_4['profit']\n",
    "    profits.append(profit)\n",
    "print(profits)\n",
    "    "
   ]
  },
  {
   "cell_type": "code",
   "execution_count": null,
   "metadata": {},
   "outputs": [],
   "source": [
    "a  = [1,2,3,4,5,6,7,8,9,10]\n",
    "\n",
    "for i in a :\n",
    "    i = i + 1\n",
    "    \n",
    "a"
   ]
  },
  {
   "cell_type": "code",
   "execution_count": 25,
   "metadata": {},
   "outputs": [],
   "source": [
    "import copy"
   ]
  },
  {
   "cell_type": "code",
   "execution_count": 61,
   "metadata": {},
   "outputs": [
    {
     "name": "stdout",
     "output_type": "stream",
     "text": [
      "flightsc that be takeoff [[{'currently': 2, 'take_off_time': 0, 'landing_time': 0, 'from_city': 0, 'to_city': 0, 'seats_full': None, 'avg_wait_time': None, 'profit': None}, {'currently': 2, 'from_city': 2, 'to_city': 0, 'seats_full': 1, 'take_off_time': 0, 'current_airport': 2, 'landing_time': 3, 'profit': -50}, {'currently': 2, 'from_city': 2, 'to_city': 1, 'seats_full': 1, 'take_off_time': 0, 'current_airport': 2, 'landing_time': 3, 'profit': -50}], [{'currently': 1, 'take_off_time': 0, 'landing_time': 0, 'from_city': 0, 'to_city': 0, 'seats_full': None, 'avg_wait_time': None, 'profit': None}, {'currently': 1, 'from_city': 1, 'to_city': 0, 'seats_full': 2, 'take_off_time': 0, 'current_airport': 1, 'landing_time': 3, 'profit': 0}, {'currently': 1, 'from_city': 1, 'to_city': 2, 'seats_full': 1, 'take_off_time': 0, 'current_airport': 1, 'landing_time': 3, 'profit': -50}], [{'currently': 0, 'take_off_time': 0, 'landing_time': 0, 'from_city': 0, 'to_city': 0, 'seats_full': None, 'avg_wait_time': None, 'profit': None}], [{'currently': 1, 'take_off_time': 0, 'landing_time': 0, 'from_city': 0, 'to_city': 0, 'seats_full': None, 'avg_wait_time': None, 'profit': None}], [{'currently': 0, 'take_off_time': 0, 'landing_time': 0, 'from_city': 0, 'to_city': 0, 'seats_full': None, 'avg_wait_time': None, 'profit': None}]]\n"
     ]
    }
   ],
   "source": [
    "import numpy as np\n",
    "\n",
    "airport_traffic = airport_traffic_notChanged.copy()\n",
    "# print(airport_traffic)\n",
    "\n",
    "flightLocations = iniitial_flights_positions \n",
    "flights_status = [{'currently': city,\n",
    "                   'take_off_time': 0,\n",
    "                   'landing_time': 0,\n",
    "                   'from_city': 0,\n",
    "                   'to_city': 0,\n",
    "                   'seats_full': None,\n",
    "                   'avg_wait_time': None,\n",
    "                   'profit': None}\n",
    "                  for city in iniitial_flights_positions]\n",
    "\n",
    "schedule_array = [[] for _ in range(totalFlights)]\n",
    "everyPossibleSchedule = []\n",
    "\n",
    "def getSeatsLeft(airport_traffic, current_airport, dest_airport, time_instant): \n",
    "    seats_left = numberOfSeatsPerFlight\n",
    "    for time_instant in range(0, time_instant + 1):\n",
    "        if airport_traffic[current_airport][dest_airport][time_instant] > 0:\n",
    "            demand = airport_traffic[current_airport][dest_airport][time_instant]\n",
    "            if seats_left > demand: \n",
    "                airport_traffic[current_airport][dest_airport][time_instant] = 0\n",
    "                seats_left -= demand\n",
    "            else:\n",
    "                airport_traffic[current_airport][dest_airport][time_instant] = demand - seats_left\n",
    "                seats_left = 0\n",
    "    return seats_left\n",
    "\n",
    "def schedule_flights(time_instant, flights_status, schedule_array, airport_traffic):\n",
    "    if time_instant == 2:\n",
    "        everyPossibleSchedule.append([flight_schedule[:] for flight_schedule in schedule_array])  # Append a copy\n",
    "        # everyPossibleSchedule.append(schedule_array)\n",
    "        return\n",
    "    \n",
    "    flights_that_can_takeoff = []\n",
    "    \n",
    "    for flight_idx in range(len(flights_status)):\n",
    "        this_flight_can_takeoff = []\n",
    "        \n",
    "        if flights_status[flight_idx]['currently'] == -1:\n",
    "            if flights_status[flight_idx]['landing_time'] == time_instant:\n",
    "                flights_status[flight_idx]['currently'] = flights_status[flight_idx]['to_city']\n",
    "        if flights_status[flight_idx]['currently'] == -1:\n",
    "            this_flight_can_takeoff.append(flights_status[flight_idx])\n",
    "            continue\n",
    "        \n",
    "        \n",
    "        current_airport = flights_status[flight_idx]['currently']\n",
    "        \n",
    "         ## for a particular flight with fligh id, how many flights can take off including the one in which it doesnt take off\n",
    "         \n",
    "        to_city = flights_status[flight_idx]['to_city'] \n",
    "        flights_status[flight_idx]['to_city'] = flights_status[flight_idx]['from_city']\n",
    "        this_flight_can_takeoff.append(flights_status[flight_idx].copy())\n",
    "        \n",
    "        flights_status[flight_idx]['to_city'] = to_city\n",
    "        \n",
    "        \n",
    "        for dest_airport in range(numberOfAirports):\n",
    "            if dest_airport == current_airport:\n",
    "                continue\n",
    "    \n",
    "            seatsLeft = getSeatsLeft(airport_traffic, current_airport, dest_airport, time_instant)\n",
    "            # print(airport_traffic)\n",
    "            # print(\"Seats filled:\", seatsLeft)\n",
    "            if seatsLeft > minimumFractionAirplaneFillesd * numberOfSeatsPerFlight:\n",
    "                continue\n",
    "            \n",
    "            flight_that_can_takeoff = {}\n",
    "            flight_that_can_takeoff['currently'] = current_airport\n",
    "            flight_that_can_takeoff['from_city'] = current_airport\n",
    "            flight_that_can_takeoff['to_city'] = dest_airport\n",
    "            flight_that_can_takeoff['seats_full'] = numberOfSeatsPerFlight  - seatsLeft\n",
    "            flight_that_can_takeoff['take_off_time'] = time_instant\n",
    "            flight_that_can_takeoff['current_airport'] = current_airport\n",
    "            flight_that_can_takeoff['landing_time'] = time_instant + timeFromOneAirportToAnother\n",
    "            flight_that_can_takeoff['profit'] = costPerSeatPerHourOfFlight * (numberOfSeatsPerFlight - seatsLeft) - fixedCostPerHourOfFlight\n",
    "            \n",
    "            this_flight_can_takeoff.append(flight_that_can_takeoff.copy())\n",
    "            \n",
    "            # flights_status[flight_idx]['currently'] = -1\n",
    "            # flights_status[flight_idx]['take_off_time'] = time_instant\n",
    "            # flights_status[flight_idx]['landing_time'] = time_instant + timeFromOneAirportToAnother\n",
    "            # flights_status[flight_idx]['from_city'] = current_airport\n",
    "            # flights_status[flight_idx]['to_city'] = dest_airport\n",
    "            # flights_status[flight_idx]['seats_full'] = numberOfSeatsPerFlight - seatsLeft\n",
    "            # flights_status[flight_idx]['profit'] =   costPerSeatPerHourOfFlight * (numberOfSeatsPerFlight - seatsLeft) - fixedCostPerHourOfFlight\\\n",
    "            # schedule_array[flight_idx].append(flights_status[flight_idx].copy())\n",
    "            # schedule_flights(time_instant + 1, flights_status, schedule_array, airport_traffic)\n",
    "            \n",
    "            # flights_status[flight_idx] = flight_old\n",
    "            # schedule_array[flight_idx].pop()\n",
    "            \n",
    "            # schedule_flights(time_instant + 1, flights_status, schedule_array, airport_traffic)\n",
    "        flights_that_can_takeoff.append(this_flight_can_takeoff.copy())\n",
    "    \n",
    "    ## for a particular time instant, choosing which all flights to schedule and which doesnt, including every combination\n",
    "    \n",
    "    print(\"flightsc that be takeoff\" , flights_that_can_takeoff)\n",
    "    for flight_0 in flights_that_can_takeoff[0]:\n",
    "        for flight_1 in flights_that_can_takeoff[1]:\n",
    "            for flight_2 in flights_that_can_takeoff[2]:\n",
    "                for flight_3 in flights_that_can_takeoff[3]:\n",
    "                    for flight_4 in flights_that_can_takeoff[4]:\n",
    "                        flight_0_Added = False\n",
    "                        flight_1_Added = False\n",
    "                        flight_2_Added = False\n",
    "                        flight_3_Added = False\n",
    "                        flight_4_Added = False\n",
    "                        \n",
    "                        \n",
    "                        if(flight_0['currently'] != -1 and flight_0['to_city'] != flight_0['from_city']):\n",
    "                            flight_0_Added = True\n",
    "                            flight_0['currently'] = -1\n",
    "                            schedule_array[0].append(flight_0.copy())\n",
    "                            \n",
    "                        if(flight_1['currently'] != -1 and flight_1['to_city'] != flight_1['from_city']):\n",
    "                            flight_1_Added = True\n",
    "                            flight_1['currently'] = -1\n",
    "                            schedule_array[1].append(flight_1.copy())\n",
    "                            \n",
    "                        if(flight_2['currently'] != -1 and flight_2['to_city'] != flight_2['from_city']):\n",
    "                            flight_2_Added = True\n",
    "                            flight_2['currently'] = -1  \n",
    "                            schedule_array[2].append(flight_2.copy())\n",
    "                            \n",
    "                        if(flight_3['currently'] != -1 and flight_3['to_city'] != flight_3['from_city']):\n",
    "                            flight_3_Added = True\n",
    "                            flight_3['currently'] = -1  \n",
    "                            schedule_array[3].append(flight_3.copy())\n",
    "                            \n",
    "                        if(flight_4['currently'] != -1 and flight_4['to_city'] != flight_4['from_city']):\n",
    "                            flight_4_Added = True\n",
    "                            flight_4['currently'] = -1\n",
    "                            schedule_array[4].append(flight_4.copy())\n",
    "                            \n",
    "                            print(\"timestamp\" , time_instant , \"schedule_array\", schedule_array)\n",
    "                            new_flights_status = copy.deepcopy(flights_status)\n",
    "                            new_schedule_array = copy.deepcopy(schedule_array)\n",
    "                                \n",
    "                            schedule_flights(time_instant + 1, new_flights_status, new_schedule_array, airport_traffic)\n",
    "                        \n",
    "                        \n",
    "                        if(flight_0_Added):\n",
    "                            schedule_array[0].pop()\n",
    "                        if(flight_1_Added):\n",
    "                            schedule_array[1].pop()\n",
    "                        if(flight_2_Added):\n",
    "                            schedule_array[2].pop()\n",
    "                        if(flight_3_Added):\n",
    "                            schedule_array[3].pop()\n",
    "                        if(flight_4_Added):\n",
    "                            schedule_array[4].pop()\n",
    "                        \n",
    "        \n",
    "\n",
    "schedule_flights(0, flights_status, schedule_array, airport_traffic)\n",
    "\n",
    "# Print everyPossibleSchedule to check the output\n",
    "# print(everyPossibleSchedule)\n"
   ]
  },
  {
   "cell_type": "markdown",
   "metadata": {},
   "source": []
  },
  {
   "cell_type": "code",
   "execution_count": null,
   "metadata": {},
   "outputs": [],
   "source": []
  },
  {
   "cell_type": "code",
   "execution_count": 62,
   "metadata": {},
   "outputs": [
    {
     "data": {
      "text/plain": [
       "0"
      ]
     },
     "execution_count": 62,
     "metadata": {},
     "output_type": "execute_result"
    }
   ],
   "source": [
    "len(everyPossibleSchedule)"
   ]
  },
  {
   "cell_type": "code",
   "execution_count": 63,
   "metadata": {},
   "outputs": [
    {
     "ename": "IndexError",
     "evalue": "list index out of range",
     "output_type": "error",
     "traceback": [
      "\u001b[0;31m---------------------------------------------------------------------------\u001b[0m",
      "\u001b[0;31mIndexError\u001b[0m                                Traceback (most recent call last)",
      "Cell \u001b[0;32mIn[63], line 1\u001b[0m\n\u001b[0;32m----> 1\u001b[0m \u001b[43meveryPossibleSchedule\u001b[49m\u001b[43m[\u001b[49m\u001b[38;5;241;43m23\u001b[39;49m\u001b[43m]\u001b[49m\n",
      "\u001b[0;31mIndexError\u001b[0m: list index out of range"
     ]
    }
   ],
   "source": [
    "everyPossibleSchedule[23]"
   ]
  },
  {
   "cell_type": "code",
   "execution_count": 41,
   "metadata": {},
   "outputs": [
    {
     "name": "stdout",
     "output_type": "stream",
     "text": [
      "[0, 0, 50, -50, -50, 0, 0, 0, 50, -50, -50, 0, 50, 50, 100, 0, 0, 50, -50, -50, -50, -100, -100, 0, -50, -50, -50, -100, -100, 50, 0, 0, 0, -50, -50]\n"
     ]
    }
   ],
   "source": [
    "profits = []\n",
    "for schedule in everyPossibleSchedule:\n",
    "    profit = 0\n",
    "    for flight_0 in schedule[0]:\n",
    "        if(flight_0[\"profit\"]):\n",
    "            profit = profit + flight_0['profit']\n",
    "    for flight_1 in schedule[1]:\n",
    "        if(flight_1[\"profit\"]):\n",
    "            profit = profit + flight_1['profit']\n",
    "    for flight_2 in schedule[2]:\n",
    "        if(flight_2[\"profit\"]):\n",
    "            profit = profit + flight_2['profit']\n",
    "    for flight_3 in schedule[3]:\n",
    "        if(flight_3[\"profit\"]):\n",
    "            profit = profit + flight_3['profit']\n",
    "    for flight_4 in schedule[4]:\n",
    "        if(flight_4[\"profit\"]):\n",
    "            profit = profit + flight_4['profit']\n",
    "    profits.append(profit)\n",
    "print(profits)\n",
    "    \n",
    "        "
   ]
  },
  {
   "cell_type": "code",
   "execution_count": 42,
   "metadata": {},
   "outputs": [
    {
     "data": {
      "text/plain": [
       "[[{'currently': 2,\n",
       "   'take_off_time': 0,\n",
       "   'landing_time': 0,\n",
       "   'from_city': 0,\n",
       "   'to_city': 0,\n",
       "   'seats_full': None,\n",
       "   'avg_wait_time': None,\n",
       "   'profit': None},\n",
       "  {'currently': 2,\n",
       "   'take_off_time': 0,\n",
       "   'landing_time': 0,\n",
       "   'from_city': 0,\n",
       "   'to_city': 0,\n",
       "   'seats_full': None,\n",
       "   'avg_wait_time': None,\n",
       "   'profit': None}],\n",
       " [{'currently': 2,\n",
       "   'take_off_time': 0,\n",
       "   'landing_time': 0,\n",
       "   'from_city': 0,\n",
       "   'to_city': 0,\n",
       "   'seats_full': None,\n",
       "   'avg_wait_time': None,\n",
       "   'profit': None},\n",
       "  {'currently': 2,\n",
       "   'take_off_time': 0,\n",
       "   'landing_time': 0,\n",
       "   'from_city': 0,\n",
       "   'to_city': 0,\n",
       "   'seats_full': None,\n",
       "   'avg_wait_time': None,\n",
       "   'profit': None}],\n",
       " [{'currently': 0,\n",
       "   'take_off_time': 0,\n",
       "   'landing_time': 0,\n",
       "   'from_city': 0,\n",
       "   'to_city': 0,\n",
       "   'seats_full': None,\n",
       "   'avg_wait_time': None,\n",
       "   'profit': None},\n",
       "  {'currently': -1,\n",
       "   'from_city': 0,\n",
       "   'to_city': 1,\n",
       "   'seats_full': 1,\n",
       "   'take_off_time': 1,\n",
       "   'current_airport': 0,\n",
       "   'landing_time': 4,\n",
       "   'profit': -50}],\n",
       " [{'currently': 1,\n",
       "   'take_off_time': 0,\n",
       "   'landing_time': 0,\n",
       "   'from_city': 0,\n",
       "   'to_city': 0,\n",
       "   'seats_full': None,\n",
       "   'avg_wait_time': None,\n",
       "   'profit': None},\n",
       "  {'currently': -1,\n",
       "   'from_city': 1,\n",
       "   'to_city': 2,\n",
       "   'seats_full': 3,\n",
       "   'take_off_time': 1,\n",
       "   'current_airport': 1,\n",
       "   'landing_time': 4,\n",
       "   'profit': 50}],\n",
       " [{'currently': 0,\n",
       "   'take_off_time': 0,\n",
       "   'landing_time': 0,\n",
       "   'from_city': 0,\n",
       "   'to_city': 0,\n",
       "   'seats_full': None,\n",
       "   'avg_wait_time': None,\n",
       "   'profit': None},\n",
       "  {'currently': 0,\n",
       "   'take_off_time': 0,\n",
       "   'landing_time': 0,\n",
       "   'from_city': 0,\n",
       "   'to_city': 0,\n",
       "   'seats_full': None,\n",
       "   'avg_wait_time': None,\n",
       "   'profit': None}]]"
      ]
     },
     "execution_count": 42,
     "metadata": {},
     "output_type": "execute_result"
    }
   ],
   "source": [
    "everyPossibleSchedule[5]"
   ]
  },
  {
   "cell_type": "code",
   "execution_count": null,
   "metadata": {},
   "outputs": [],
   "source": [
    "everyPossibleSchedule"
   ]
  },
  {
   "cell_type": "code",
   "execution_count": null,
   "metadata": {},
   "outputs": [],
   "source": []
  },
  {
   "cell_type": "code",
   "execution_count": null,
   "metadata": {},
   "outputs": [],
   "source": []
  }
 ],
 "metadata": {
  "kernelspec": {
   "display_name": "project",
   "language": "python",
   "name": "python3"
  },
  "language_info": {
   "codemirror_mode": {
    "name": "ipython",
    "version": 3
   },
   "file_extension": ".py",
   "mimetype": "text/x-python",
   "name": "python",
   "nbconvert_exporter": "python",
   "pygments_lexer": "ipython3",
   "version": "3.9.6"
  }
 },
 "nbformat": 4,
 "nbformat_minor": 2
}
